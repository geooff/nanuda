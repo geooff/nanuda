{
 "cells": [
  {
   "cell_type": "code",
   "execution_count": null,
   "metadata": {},
   "outputs": [],
   "source": [
    "import ipywidgets as widgets\n",
    "from prettytable import PrettyTable\n",
    "from fastai.learner import load_learner\n",
    "import pickle\n",
    "import requests\n",
    "\n",
    "def download_file_from_google_drive(id, destination):\n",
    "    URL = \"https://docs.google.com/uc?export=download\"\n",
    "\n",
    "    session = requests.Session()\n",
    "\n",
    "    response = session.get(URL, params = { 'id' : id }, stream = True)\n",
    "    token = get_confirm_token(response)\n",
    "\n",
    "    if token:\n",
    "        params = { 'id' : id, 'confirm' : token }\n",
    "        response = session.get(URL, params = params, stream = True)\n",
    "\n",
    "    save_response_content(response, destination)    \n",
    "\n",
    "def get_confirm_token(response):\n",
    "    for key, value in response.cookies.items():\n",
    "        if key.startswith('download_warning'):\n",
    "            return value\n",
    "\n",
    "    return None\n",
    "\n",
    "def save_response_content(response, destination):\n",
    "    CHUNK_SIZE = 32768\n",
    "\n",
    "    with open(destination, \"wb\") as f:\n",
    "        for chunk in response.iter_content(CHUNK_SIZE):\n",
    "            if chunk: # filter out keep-alive new chunks\n",
    "                f.write(chunk)\n",
    "\n",
    "\n",
    "file_id = '1tzQB9IzrlRdpS5nbHJ3OLkvALgYAXrVw'\n",
    "destination = 'model.pkl'\n",
    "download_file_from_google_drive(file_id, destination)   "
   ]
  },
  {
   "cell_type": "code",
   "execution_count": 11,
   "metadata": {},
   "outputs": [
    {
     "data": {
      "application/vnd.jupyter.widget-view+json": {
       "model_id": "e2f17adcf65d481eac1408c717c6a6f2",
       "version_major": 2,
       "version_minor": 0
      },
      "text/plain": [
       "VBox(children=(Label(value='Enter your message!'), Textarea(value='', placeholder='I love baseball, but the ga…"
      ]
     },
     "metadata": {},
     "output_type": "display_data"
    }
   ],
   "source": [
    "learn = load_learner(\"model.pkl\")\n",
    "labels = learn.dls.vocab[1]\n",
    "\n",
    "def jupyter_serve(max_n=5):\n",
    "    string = text_input.value\n",
    "    output_grid = PrettyTable(format=True)\n",
    "    output_grid.field_names = [\"Emoji\", \"Confidence\"]\n",
    "    confidences = learn.predict(string)[2].tolist() # Get List of predictions from fastai\n",
    "    results = {l: c for l, c in zip(labels, confidences)} # Wrap labels and confidences into dictionary\n",
    "    results = sorted(results.items(), key=lambda x: x[1], reverse=True)\n",
    "    top_results = results[:5]\n",
    "    total_confidence = sum([x[1] for x in top_results])\n",
    "    for row in top_results:\n",
    "        output_grid.add_row(row)\n",
    "    lbl_pred.value = output_grid.get_html_string()\n",
    "\n",
    "text_input = widgets.Textarea(\n",
    "    value='',\n",
    "    placeholder='I love baseball, but the games can be soo boring',\n",
    "    disabled=False\n",
    ")\n",
    "\n",
    "lbl_pred = widgets.HTML()\n",
    "lbl_pred.value = \"\"\n",
    "\n",
    "btn_run = widgets.Button(description='Classify')\n",
    "btn_run.on_click(jupyter_serve)\n",
    "\n",
    "widgets.VBox([widgets.Label('Enter your message!'), \n",
    "      text_input, btn_run, lbl_pred])"
   ]
  }
 ],
 "metadata": {
  "kernelspec": {
   "display_name": "Python 3",
   "language": "python",
   "name": "python3"
  },
  "language_info": {
   "codemirror_mode": {
    "name": "ipython",
    "version": 3
   },
   "file_extension": ".py",
   "mimetype": "text/x-python",
   "name": "python",
   "nbconvert_exporter": "python",
   "pygments_lexer": "ipython3",
   "version": "3.8.5"
  }
 },
 "nbformat": 4,
 "nbformat_minor": 4
}