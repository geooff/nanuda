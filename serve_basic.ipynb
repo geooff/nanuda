{
 "cells": [
  {
   "cell_type": "code",
   "execution_count": 2,
   "metadata": {},
   "outputs": [
    {
     "output_type": "error",
     "ename": "ModuleNotFoundError",
     "evalue": "No module named 'prettytable'",
     "traceback": [
      "\u001b[0;31m---------------------------------------------------------------------------\u001b[0m",
      "\u001b[0;31mModuleNotFoundError\u001b[0m                       Traceback (most recent call last)",
      "\u001b[0;32m<ipython-input-2-b786f97c3e5a>\u001b[0m in \u001b[0;36m<module>\u001b[0;34m\u001b[0m\n\u001b[1;32m      1\u001b[0m \u001b[0;32mimport\u001b[0m \u001b[0mipywidgets\u001b[0m \u001b[0;32mas\u001b[0m \u001b[0mwidgets\u001b[0m\u001b[0;34m\u001b[0m\u001b[0;34m\u001b[0m\u001b[0m\n\u001b[0;32m----> 2\u001b[0;31m \u001b[0;32mfrom\u001b[0m \u001b[0mprettytable\u001b[0m \u001b[0;32mimport\u001b[0m \u001b[0mPrettyTable\u001b[0m\u001b[0;34m\u001b[0m\u001b[0;34m\u001b[0m\u001b[0m\n\u001b[0m\u001b[1;32m      3\u001b[0m \u001b[0;32mfrom\u001b[0m \u001b[0mfastai\u001b[0m \u001b[0;32mimport\u001b[0m \u001b[0;34m*\u001b[0m\u001b[0;34m\u001b[0m\u001b[0;34m\u001b[0m\u001b[0m\n\u001b[1;32m      4\u001b[0m \u001b[0;32mimport\u001b[0m \u001b[0murllib\u001b[0m\u001b[0;34m.\u001b[0m\u001b[0mrequest\u001b[0m\u001b[0;34m\u001b[0m\u001b[0;34m\u001b[0m\u001b[0m\n\u001b[1;32m      5\u001b[0m \u001b[0;34m\u001b[0m\u001b[0m\n",
      "\u001b[0;31mModuleNotFoundError\u001b[0m: No module named 'prettytable'"
     ]
    }
   ],
   "source": [
    "import ipywidgets as widgets\n",
    "from prettytable import PrettyTable\n",
    "from fastai.learner import load_learner\n",
    "import pickle\n",
    "import urllib.request\n",
    "\n",
    "MODEL_URL = \"https://drive.google.com/uc?export=download&id=1dCinFMc2O7oPLQnMS-GGcQWv-gyKYHQQ\"\n",
    "urllib.request.urlretrieve(MODEL_URL, \"model.pkl\")\n",
    "\n",
    "learn = load_learner(\"model.pkl\")\n",
    "labels = learn.dls.vocab[1]\n",
    "\n",
    "def jupyter_serve(max_n=5):\n",
    "    string = text_input.value\n",
    "    output_grid = PrettyTable(format=True)\n",
    "    output_grid.field_names = [\"Emoji\", \"Confidence\"]\n",
    "    confidences = learn.predict(string)[2].tolist() # Get List of predictions from fastai\n",
    "    results = {l: c for l, c in zip(labels, confidences)} # Wrap labels and confidences into dictionary\n",
    "    results = sorted(results.items(), key=lambda x: x[1], reverse=True)\n",
    "    top_results = results[:5]\n",
    "    total_confidence = sum([x[1] for x in top_results])\n",
    "    for row in top_results:\n",
    "        output_grid.add_row(row)\n",
    "    lbl_pred.value = output_grid.get_html_string()\n",
    "\n",
    "text_input = widgets.Textarea(\n",
    "    value='',\n",
    "    placeholder='I love baseball, but the games can be soo boring',\n",
    "    disabled=False\n",
    ")\n",
    "\n",
    "lbl_pred = widgets.HTML()\n",
    "lbl_pred.value = \"\"\n",
    "\n",
    "btn_run = widgets.Button(description='Classify')\n",
    "btn_run.on_click(jupyter_serve)\n",
    "\n",
    "\n",
    "widgets.VBox([widgets.Label('Enter your message!'), \n",
    "      text_input, btn_run, lbl_pred])"
   ]
  }
 ],
 "metadata": {
  "kernelspec": {
   "display_name": "Python 3",
   "language": "python",
   "name": "python3"
  },
  "language_info": {
   "codemirror_mode": {
    "name": "ipython",
    "version": 3
   },
   "file_extension": ".py",
   "mimetype": "text/x-python",
   "name": "python",
   "nbconvert_exporter": "python",
   "pygments_lexer": "ipython3",
   "version": "3.8.3-final"
  }
 },
 "nbformat": 4,
 "nbformat_minor": 4
}